{
  "nbformat": 4,
  "nbformat_minor": 0,
  "metadata": {
    "colab": {
      "provenance": []
    },
    "kernelspec": {
      "name": "python3",
      "display_name": "Python 3"
    },
    "language_info": {
      "name": "python"
    }
  },
  "cells": [
    {
      "cell_type": "code",
      "execution_count": 3,
      "metadata": {
        "id": "cgwA287O6e3P"
      },
      "outputs": [],
      "source": [
        "import pandas as pd\n",
        "from autoscraper import AutoScraper"
      ]
    },
    {
      "cell_type": "code",
      "source": [
        "link = \"https://books.toscrape.com/catalogue/category/books/romance_8/index.html\"\n",
        "WantedList = [\"https://books.toscrape.com/catalogue/chase-me-paris-nights-2_977/index.html\"]\n",
        "\n",
        "mainscrape = AutoScraper()\n",
        "mainscrape.build(link, wanted_list=WantedList)"
      ],
      "metadata": {
        "id": "1Y3IsD-i63_U"
      },
      "execution_count": null,
      "outputs": []
    },
    {
      "cell_type": "code",
      "source": [
        "singleurl = \"https://books.toscrape.com/catalogue/chase-me-paris-nights-2_977/index.html\"\n",
        "WantedList = ['Chase Me (Paris Nights #2)', '£25.27', 'In stock (19 available)']\n",
        "singlescrape = AutoScraper()\n",
        "singlescrape.build(singleurl, wanted_list=WantedList)"
      ],
      "metadata": {
        "id": "FpmChjqp77Mz"
      },
      "execution_count": null,
      "outputs": []
    },
    {
      "cell_type": "code",
      "source": [
        "BooksList = mainscrape.get_result_similar(link)\n",
        "BookList = []\n",
        "\n",
        "for url in BooksList:\n",
        "  book_info=singlescrape.get_result_exact(url)\n",
        "  BookList.append(book_info)"
      ],
      "metadata": {
        "id": "BVEAkH0p78lJ"
      },
      "execution_count": 8,
      "outputs": []
    },
    {
      "cell_type": "code",
      "source": [
        "df=pd.DataFrame(BookList, columns=[\"Title\", \"Price\", \"Stock\"])\n",
        "df"
      ],
      "metadata": {
        "id": "9peiZzzV8j1J"
      },
      "execution_count": null,
      "outputs": []
    }
  ]
}