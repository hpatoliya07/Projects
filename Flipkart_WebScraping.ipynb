{
  "nbformat": 4,
  "nbformat_minor": 0,
  "metadata": {
    "colab": {
      "provenance": []
    },
    "kernelspec": {
      "name": "python3",
      "display_name": "Python 3"
    },
    "language_info": {
      "name": "python"
    }
  },
  "cells": [
    {
      "cell_type": "code",
      "execution_count": 61,
      "metadata": {
        "id": "ElJBvy0lN8OT"
      },
      "outputs": [],
      "source": [
        "from bs4 import BeautifulSoup as bs\n",
        "import pandas as pd\n",
        "from selenium import webdriver\n",
        "import requests\n",
        "import numpy as np"
      ]
    },
    {
      "cell_type": "code",
      "source": [
        "link='https://www.flipkart.com/search?q=tv&as=on&as-show=on&otracker=AS_Query_TrendingAutoSuggest_8_0_na_na_na&otracker1=AS_Query_TrendingAutoSuggest_8_0_na_na_na&as-pos=8&as-type=TRENDING&suggestionId=tv&requestId=9c9fa553-b7e5-454b-a65b-bbb7a9c74a29'"
      ],
      "metadata": {
        "id": "jnCMgWZ4OjkL"
      },
      "execution_count": 6,
      "outputs": []
    },
    {
      "cell_type": "code",
      "source": [
        "page = requests.get(link)"
      ],
      "metadata": {
        "id": "d8-RHLB0P4NC"
      },
      "execution_count": 7,
      "outputs": []
    },
    {
      "cell_type": "code",
      "source": [
        "soup = bs(page.content, 'html.parser')\n",
        "print(soup.prettify())"
      ],
      "metadata": {
        "id": "1ghmdcUMQCpj"
      },
      "execution_count": null,
      "outputs": []
    },
    {
      "cell_type": "code",
      "source": [
        "name = soup.find('div', class_='_4rR01T')\n",
        "print(name)\n",
        "name.text"
      ],
      "metadata": {
        "id": "YznAl10GQIrz"
      },
      "execution_count": null,
      "outputs": []
    },
    {
      "cell_type": "code",
      "source": [
        "# Get ratings of the product\n",
        "\n",
        "rating = soup.find('div', class_='_3LWZlK').text\n",
        "print(rating)"
      ],
      "metadata": {
        "id": "s2MvvSfMQ6Ur"
      },
      "execution_count": null,
      "outputs": []
    },
    {
      "cell_type": "code",
      "source": [
        "# Extracting other details\n",
        "\n",
        "specification = soup.find('div',class_=\"fMghEO\").text\n",
        "print(specification)"
      ],
      "metadata": {
        "id": "31G9_cHbSagc"
      },
      "execution_count": null,
      "outputs": []
    },
    {
      "cell_type": "code",
      "source": [
        "# Extracting price of the product.\n",
        "\n",
        "actual_price = soup.find('div', class_='_3I9_wc _27UcVY').text\n",
        "print(actual_price)"
      ],
      "metadata": {
        "colab": {
          "base_uri": "https://localhost:8080/"
        },
        "id": "4GUbpFc7Sxki",
        "outputId": "87ec74e4-7436-440f-a90d-9fc73aa13bf9"
      },
      "execution_count": 67,
      "outputs": [
        {
          "output_type": "stream",
          "name": "stdout",
          "text": [
            "₹59,999₹59,999\n"
          ]
        }
      ]
    },
    {
      "cell_type": "code",
      "source": [
        "product=[]\n",
        "price=[]\n",
        "ratings=[]\n",
        "discount=[]\n",
        "os=[]\n",
        "hd=[]\n",
        "\n",
        "\n",
        "for data in soup.findAll('div', class_='_3pLy-c row'):\n",
        "  name = data.find('div', attrs={'class':'_4rR01T'})\n",
        "  price = data.find('div', attrs={'class':'_3I9_wc _27UcVY'})\n",
        "  rating = data.find('div', attrs={'class':'_3LWZlK'})\n",
        "  specification = data.find('div', attrs={'class':'fMghEO'})\n",
        "  discount = data.find('div', attrs={'class':'_3Ay6Sb'})\n",
        "\n",
        "  for each in specification:\n",
        "    col=each.find_all('li', attrs={'class':'rgWa7D'})\n",
        "    os_ =col[0].text\n",
        "    hd_ =col[1].text\n",
        "    \n",
        "\n",
        "  product.append(name.text)\n",
        "  #price.append(price.text)\n",
        "  #discount.append(discount.text)\n",
        "  os.append(os_)\n",
        "  hd.append(hd_)\n",
        "  ratings.append(rating.text)\n"
      ],
      "metadata": {
        "id": "nAc_Jx9XTQOy"
      },
      "execution_count": 89,
      "outputs": []
    },
    {
      "cell_type": "code",
      "source": [
        "df=pd.DataFrame({'Product Name':product, 'Operating System':os, 'Resolution':hd, 'Ratings': ratings})\n",
        "df\n",
        "df.to_csv(r'C:\\Users\\ADMIN\\Desktop\\Hardik Works\\Data Analyst\\Python\\Lappy.csv')"
      ],
      "metadata": {
        "id": "BVxC8b9vaYKd"
      },
      "execution_count": 96,
      "outputs": []
    }
  ]
}