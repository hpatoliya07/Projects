{
  "nbformat": 4,
  "nbformat_minor": 0,
  "metadata": {
    "colab": {
      "provenance": []
    },
    "kernelspec": {
      "name": "python3",
      "display_name": "Python 3"
    },
    "language_info": {
      "name": "python"
    }
  },
  "cells": [
    {
      "cell_type": "code",
      "execution_count": null,
      "metadata": {
        "id": "PCI0vCJR8cJI"
      },
      "outputs": [],
      "source": [
        "from random import randint\n",
        "\n",
        "number = randint(1,10)\n",
        "\n",
        "for i in range(0,3):\n",
        "  user = int(input(\"guess the number between 1 to 10 \"))\n",
        "  if user == number:\n",
        "    print(\"Hurray!!\")\n",
        "    print(f\"you guessed the number right it's {number}\")\n",
        "if user != number:\n",
        "  print(f\"Your guess is incorrect the number is {number}\")"
      ]
    }
  ]
}