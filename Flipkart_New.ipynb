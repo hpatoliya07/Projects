{
  "nbformat": 4,
  "nbformat_minor": 0,
  "metadata": {
    "colab": {
      "provenance": []
    },
    "kernelspec": {
      "name": "python3",
      "display_name": "Python 3"
    },
    "language_info": {
      "name": "python"
    }
  },
  "cells": [
    {
      "cell_type": "code",
      "execution_count": 1,
      "metadata": {
        "id": "BUT5VJg4jzhB"
      },
      "outputs": [],
      "source": [
        "from bs4 import BeautifulSoup\n",
        "import pandas as pd\n",
        "import requests"
      ]
    },
    {
      "cell_type": "code",
      "source": [
        "URL = 'https://www.flipkart.com/laptops/pr?sid=6bo,b5g&otracker=categorytree&fm=neo%2Fmerchandising&iid=M_3320fa00-e582-4a43-bd5b-a03ac7401e91_1_372UD5BXDFYS_MC.34WHNYFH5V2Y&otracker=hp_rich_navigation_8_1.navigationCard.RICH_NAVIGATION_Electronics~Laptop%2Band%2BDesktop_34WHNYFH5V2Y&otracker1=hp_rich_navigation_PINNED_neo%2Fmerchandising_NA_NAV_EXPANDABLE_navigationCard_cc_8_L1_view-all&cid=34WHNYFH5V2Y'"
      ],
      "metadata": {
        "id": "ZTM82ntmj6qR"
      },
      "execution_count": 2,
      "outputs": []
    },
    {
      "cell_type": "code",
      "source": [
        "page = requests.get(URL)"
      ],
      "metadata": {
        "id": "4LDG_HP7lVeu"
      },
      "execution_count": 12,
      "outputs": []
    },
    {
      "cell_type": "code",
      "source": [
        "page.content"
      ],
      "metadata": {
        "id": "yFf1HO2klaWO"
      },
      "execution_count": null,
      "outputs": []
    },
    {
      "cell_type": "code",
      "source": [
        "soup = BeautifulSoup(page.content, 'html.parser')\n",
        "print(soup.prettify())"
      ],
      "metadata": {
        "id": "i2z62AFKkgxI"
      },
      "execution_count": null,
      "outputs": []
    },
    {
      "cell_type": "code",
      "source": [
        "Products=[]\n",
        "Prices=[]\n",
        "Ratings=[]\n",
        "Discount=[]\n",
        "Actual_Price=[]"
      ],
      "metadata": {
        "id": "vX5Paqy2j9RA"
      },
      "execution_count": 20,
      "outputs": []
    },
    {
      "cell_type": "code",
      "source": [
        "Products=soup.find('div', attrs={'class':'_4rR01T'})\n",
        "print(Products.text)\n",
        "Prices=soup.find('div', attrs={'class':'_30jeq3 _1_WHN1'})\n",
        "print(Prices.text)\n",
        "Ratings=soup.find('div', attrs={'class':'_3LWZlK'})\n",
        "print(Ratings.text)\n",
        "Discount=soup.find('div', attrs={'class':'_3Ay6Sb'})\n",
        "print(Discount.text)\n",
        "Actual_Price=soup.find('div', attrs={'class':'_3I9_wc _27UcVY'})\n",
        "print(Actual_Price.text)"
      ],
      "metadata": {
        "colab": {
          "base_uri": "https://localhost:8080/"
        },
        "id": "lswW35kskskM",
        "outputId": "724e6a56-6f41-4183-bde0-63d31230dc9e"
      },
      "execution_count": 21,
      "outputs": [
        {
          "output_type": "stream",
          "name": "stdout",
          "text": [
            "ASUS Vivobook 15 Core i3 11th Gen - (8 GB/512 GB SSD/Windows 11 Home) X515EA-EJ322WS Thin and Light La...ASUS Vivobook 15 Core i3 11th Gen - (8 GB/512 GB SSD/Windows 11 Home) X515EA-EJ322WS Thin and Light La...ASUS VivoBook 14 (2021) Celeron Dual Core - (4 GB/256 GB SSD/Windows 11 Home) X415MA-BV011W Thin and L...RedmiBook Pro Core i5 11th Gen - (8 GB/512 GB SSD/Windows 11 Home) Thin and Light LaptopHP 14s Intel Core i3 11th Gen - (8 GB/512 GB SSD/Windows 11 Home) 14s - dy2508TU Thin and Light LaptopAPPLE 2020 Macbook Air M1 - (8 GB/256 GB SSD/Mac OS Big Sur) MGN63HN/AHP Celeron Dual Core - (8 GB/256 GB SSD/Windows 11 Home) 14s-dq3037tu Thin and Light LaptopLenovo ThinkBook 15 Ryzen 3 Hexa Core 5300U - (8 GB/512 GB SSD/Windows 11 Home) TB15 G3 ACL Thin and L...ASUS TUF Gaming F15 Core i5 10th Gen - (8 GB/512 GB SSD/Windows 11 Home/4 GB Graphics/NVIDIA GeForce G...acer Extensa Core i3 11th Gen - (8 GB/512 GB SSD/Windows 11 Home) EX 215-54/ EX 215-54-356V Thin and L...ASUS Vivobook 15 Core i5 11th Gen - (8 GB/512 GB SSD/Windows 11 Home) X515EA-EJ522WS Thin and Light La...HP 15s Intel Core i5 12th Gen - (8 GB/512 GB SSD/Windows 11 Home) 15s-fq5111TU Thin and Light Laptoprealme Book (Slim) Core i3 11th Gen - (8 GB/256 GB SSD/Windows 10 Home) RMNB1001 Thin and Light LaptopDELL Inspiron Core i5 11th Gen - (16 GB/512 GB SSD/Windows 11 Home) INSPIRON 3511 Thin and Light Lapto...HP Laptop Core i3 11th Gen - (8 GB/512 GB SSD/Windows 11 Home) 15s-fq2717TU Thin and Light LaptopAPPLE 2022 MacBook AIR M2 - (8 GB/256 GB SSD/Mac OS Monterey) MLY33HN/AASUS TUF Gaming A15 Ryzen 5 Hexa Core AMD R5-4600H - (8 GB/1 TB SSD/Windows 11 Home/4 GB Graphics/NVID...Lenovo IdeaPad Gaming 3 Ryzen 5 Hexa Core 5600H - (8 GB/1 TB HDD/256 GB SSD/Windows 11 Home/4 GB Graph...ASUS TUF Dash F15 (2022) Core i5 12th Gen - (8 GB/512 GB SSD/Windows 11 Home/4 GB Graphics/NVIDIA GeFo...HP Envy x360 Creator Intel Evo Core i5 12th Gen - (16 GB/512 GB SSD/Windows 11 Home) x360-bf0121TU Thi...ASUS TUF Gaming A17 with 90Whr Battery Ryzen 7 Octa Core AMD R7-4800H - (8 GB/512 GB SSD/Windows 11 Ho...ASUS Vivobook S14 OLED Intel EVO H-Series Core i5 12th Gen - (16 GB/512 GB SSD/Windows 11 Home) S3402Z...realme Book Prime Core i5 11th Gen - (8 GB/512 GB SSD/Windows 11 Home) CloudPro002 Thin and Light Lapt...acer Aspire 7 Core i5 12th Gen - (8 GB/512 GB SSD/Windows 11 Home/4 GB Graphics/NVIDIA GeForce GTX 165...ASUS Vivobook 15 Core i7 11th Gen - (16 GB/512 GB SSD/Windows 11 Home) X515EA-EJ701WS Thin and Light L...\n",
            "₹34,990₹34,990₹21,990₹37,990₹38,490₹82,900₹29,490₹32,990₹54,990₹31,990₹43,990₹56,490₹35,990₹57,890₹38,990₹1,06,990₹54,990₹52,990₹73,990₹84,990₹67,990₹71,990₹45,990₹52,990₹56,990\n",
            "4.24.24.14.14.34.73.94.24.54.14.34.24.44.24.34.84.444.54.84.44.434.34.2\n",
            "31% off31% off35% off36% off22% off17% off20% off43% off26% off27% off37% off19% off34% off30% off20% off10% off27% off40% off28% off14% off28% off27% off34% off41% off29% off\n",
            "₹50,990₹50,990₹33,990₹59,999₹49,509₹99,900₹36,965₹58,500₹74,990₹43,999₹69,990₹70,235₹54,999₹83,022₹49,025₹1,19,900₹75,990₹89,490₹1,03,990₹99,148₹94,990₹98,990₹69,999₹89,999₹80,990\n"
          ]
        }
      ]
    },
    {
      "cell_type": "code",
      "source": [
        "Products=[]\n",
        "Prices=[]\n",
        "Ratings=[]\n",
        "Discount=[]\n",
        "Actual_Price=[]\n",
        "\n",
        "for a in soup.findAll('a', href=True, attrs={'class':'_1fQZEK'}):\n",
        "  name=a.find('div', attrs={'class':'_4rR01T'})\n",
        "  price=a.find('div', attrs={'class':'_30jeq3 _1_WHN1'})\n",
        "  rating=a.find('div', attrs={'class':'_3LWZlK'})\n",
        "  discount=a.find('div', attrs={'class':'_3Ay6Sb'})\n",
        "  actual=a.find('div', attrs={'class':'_3I9_wc _27UcVY'})\n",
        "\n",
        "  Products.append(name.text)\n",
        "  Prices.append(price.text)\n",
        "  Ratings.append(rating.text)\n",
        "  Discount.append(discount.text)\n",
        "  Actual_Price.append(actual.text)"
      ],
      "metadata": {
        "id": "K6njZ6hNmvfT"
      },
      "execution_count": 31,
      "outputs": []
    },
    {
      "cell_type": "code",
      "source": [
        "df = pd.DataFrame({'Product Name':Products, 'Price': Prices, 'Discounts': Discount, 'Actual Price':Actual_Price, 'Ratings':Ratings})\n",
        "df[1:]\n",
        "df.to_csv('Laptop Range.csv')"
      ],
      "metadata": {
        "id": "g95wAp8gnnbO"
      },
      "execution_count": 38,
      "outputs": []
    }
  ]
}