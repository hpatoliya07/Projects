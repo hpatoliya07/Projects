{
  "nbformat": 4,
  "nbformat_minor": 0,
  "metadata": {
    "colab": {
      "provenance": []
    },
    "kernelspec": {
      "name": "python3",
      "display_name": "Python 3"
    },
    "language_info": {
      "name": "python"
    }
  },
  "cells": [
    {
      "cell_type": "code",
      "execution_count": null,
      "metadata": {
        "id": "MwUoj5EZ5U2Y"
      },
      "outputs": [],
      "source": [
        "import random\n",
        "\n",
        "passlen = int(input(\"Enter the length of your password :\"))\n",
        "\n",
        "s = \"abcdefghijklmnopqrstuvwxyz0123456789ABCDEFGHIJKLMNOPQRSTUVWXYZ!@#$%^&*()?\"\n",
        "\n",
        "p = \"\".join(random.sample(s,passlen))\n",
        "\n",
        "print(p)"
      ]
    }
  ]
}