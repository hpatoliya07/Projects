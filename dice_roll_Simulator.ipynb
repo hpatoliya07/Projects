{
  "nbformat": 4,
  "nbformat_minor": 0,
  "metadata": {
    "colab": {
      "provenance": []
    },
    "kernelspec": {
      "name": "python3",
      "display_name": "Python 3"
    },
    "language_info": {
      "name": "python"
    }
  },
  "cells": [
    {
      "cell_type": "code",
      "execution_count": null,
      "metadata": {
        "id": "AtvXDxYa7xki"
      },
      "outputs": [],
      "source": [
        "import random\n",
        "\n",
        "while True:\n",
        "  print(''' 1. roll the dice  2. exit ''')\n",
        "  user = int(input(\"What you want to do \\n\"))\n",
        "  if user == 1:\n",
        "    number = random.randint(1,6)\n",
        "    print(number)\n",
        "  else:\n",
        "    break"
      ]
    }
  ]
}