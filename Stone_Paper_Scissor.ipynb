{
  "nbformat": 4,
  "nbformat_minor": 0,
  "metadata": {
    "colab": {
      "provenance": []
    },
    "kernelspec": {
      "name": "python3",
      "display_name": "Python 3"
    },
    "language_info": {
      "name": "python"
    }
  },
  "cells": [
    {
      "cell_type": "code",
      "execution_count": 6,
      "metadata": {
        "colab": {
          "base_uri": "https://localhost:8080/"
        },
        "id": "n3QxO8T30mk4",
        "outputId": "cb69a5ab-da65-43ab-9e8d-57929d5e6a7a"
      },
      "outputs": [
        {
          "output_type": "stream",
          "name": "stdout",
          "text": [
            "Your choice = Rock, Paper, Scissor = Paper\n",
            "Paper Rock\n",
            "Paper covers Rock, You won\n"
          ]
        }
      ],
      "source": [
        "import random\n",
        "item_list = [\"Rock\", \"Paper\", \"Scissor\"]\n",
        "\n",
        "user_choice = input(\"Your choice = Rock, Paper, Scissor = \")\n",
        "comp_choice = random.choice(item_list)\n",
        "\n",
        "print(user_choice, comp_choice)\n",
        "\n",
        "if user_choice == comp_choice:\n",
        "  print(\"Match Tie\")\n",
        "\n",
        "elif user_choice == \"Rock\":\n",
        "  if comp_choice == \"Paper\":\n",
        "    print(\"Paper covers Rock, Computer wins\")\n",
        "  else:\n",
        "    print(\"Rock smashes Scissor, You won\")\n",
        "\n",
        "elif user_choice == \"Paper\":\n",
        "  if comp_choice == \"Scissor\":\n",
        "    print(\"Scissor cuts Paper, Computer wins\")\n",
        "  else:\n",
        "    print(\"Paper covers Rock, You won\")\n",
        "\n",
        "elif user_choice == \"Scissor\":\n",
        "  if comp_choice == \"Rock\":\n",
        "    print(\"Rock smashes Scissor, Computer wins\")\n",
        "  else:\n",
        "    print(\"Scissor cuts Paper, You won\")"
      ]
    }
  ]
}