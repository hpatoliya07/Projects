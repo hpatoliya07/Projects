{
  "nbformat": 4,
  "nbformat_minor": 0,
  "metadata": {
    "colab": {
      "provenance": []
    },
    "kernelspec": {
      "name": "python3",
      "display_name": "Python 3"
    },
    "language_info": {
      "name": "python"
    }
  },
  "cells": [
    {
      "cell_type": "code",
      "source": [
        "from bs4 import BeautifulSoup\n",
        "import requests\n",
        "import pandas as pd\n",
        "import openpyxl"
      ],
      "metadata": {
        "id": "roKAmPXYiYMR"
      },
      "execution_count": 13,
      "outputs": []
    },
    {
      "cell_type": "code",
      "source": [
        "link = 'https://www.flipkart.com/search?q=iphones&otracker=search&otracker1=search&marketplace=FLIPKART&as-show=on&as=off&page=1'"
      ],
      "metadata": {
        "id": "zwqlzTNEikJn"
      },
      "execution_count": 57,
      "outputs": []
    },
    {
      "cell_type": "code",
      "source": [
        "#HEADERS=HEADERS = ({'User-Agent':'Mozilla/5.0 (Windows NT 10.0; Win64; x64) AppleWebKit/537.36 (KHTML, like Gecko) Chrome/113.0.0.0 Safari/537.36', 'Accept-Language': 'en-US, en;q=0.5'})"
      ],
      "metadata": {
        "id": "9qq4Ik7BivoL"
      },
      "execution_count": 35,
      "outputs": []
    },
    {
      "cell_type": "code",
      "source": [
        "page=requests.get(link)"
      ],
      "metadata": {
        "colab": {
          "base_uri": "https://localhost:8080/"
        },
        "id": "Mb2E-UgtnmVb",
        "outputId": "e2d532da-291b-420d-9f54-30b8d63f8e48"
      },
      "execution_count": 39,
      "outputs": [
        {
          "output_type": "stream",
          "name": "stdout",
          "text": [
            "<Response [200]>\n"
          ]
        }
      ]
    },
    {
      "cell_type": "code",
      "source": [
        "soup=BeautifulSoup(page.content, 'html.parser')\n",
        "print(soup.prettify())"
      ],
      "metadata": {
        "id": "5y-IOFy9iyjd"
      },
      "execution_count": null,
      "outputs": []
    },
    {
      "cell_type": "code",
      "source": [
        "names = soup.find('div', class_='_4rR01T')\n",
        "print(names.text)"
      ],
      "metadata": {
        "colab": {
          "base_uri": "https://localhost:8080/"
        },
        "id": "xg3_AbxmlJvi",
        "outputId": "9b423fce-d491-431b-8621-f160099e0de3"
      },
      "execution_count": 47,
      "outputs": [
        {
          "output_type": "stream",
          "name": "stdout",
          "text": [
            "APPLE iPhone 13 (Starlight, 128 GB)\n"
          ]
        }
      ]
    },
    {
      "cell_type": "code",
      "source": [
        "specification=soup.find('div', class_='fMghEO')\n",
        "print(specification.text)"
      ],
      "metadata": {
        "colab": {
          "base_uri": "https://localhost:8080/"
        },
        "id": "bO1L80Yxi0m4",
        "outputId": "d127df97-24b4-4f8f-ad34-0fc8a8e0a7c9"
      },
      "execution_count": 43,
      "outputs": [
        {
          "output_type": "stream",
          "name": "stdout",
          "text": [
            "128 GB ROM15.49 cm (6.1 inch) Super Retina XDR Display12MP + 12MP | 12MP Front CameraA15 Bionic Chip ProcessorBrand Warranty for 1 Year\n"
          ]
        }
      ]
    },
    {
      "cell_type": "code",
      "source": [
        "og_price=soup.find('div', class_='_3I9_wc _27UcVY')\n",
        "print(og_price.text)"
      ],
      "metadata": {
        "colab": {
          "base_uri": "https://localhost:8080/"
        },
        "id": "9Fd__kFfpbXK",
        "outputId": "2aa6c8e9-b55c-4fef-c52b-ff00bc0faaed"
      },
      "execution_count": 44,
      "outputs": [
        {
          "output_type": "stream",
          "name": "stdout",
          "text": [
            "₹69,900\n"
          ]
        }
      ]
    },
    {
      "cell_type": "code",
      "source": [
        "discount=soup.find('div', class_='_3Ay6Sb')\n",
        "print(discount.text)"
      ],
      "metadata": {
        "colab": {
          "base_uri": "https://localhost:8080/"
        },
        "id": "ST2fqCcJpqPU",
        "outputId": "b13bdf5f-9146-4d40-dcd3-32349ff85f39"
      },
      "execution_count": 45,
      "outputs": [
        {
          "output_type": "stream",
          "name": "stdout",
          "text": [
            "11% off\n"
          ]
        }
      ]
    },
    {
      "cell_type": "code",
      "source": [
        "new_price=soup.find('div', class_='_30jeq3 _1_WHN1')\n",
        "print(new_price.text)"
      ],
      "metadata": {
        "colab": {
          "base_uri": "https://localhost:8080/"
        },
        "id": "uXRM635EpyQt",
        "outputId": "ca0101df-6c37-4156-cef5-e016679d6519"
      },
      "execution_count": 46,
      "outputs": [
        {
          "output_type": "stream",
          "name": "stdout",
          "text": [
            "₹61,999\n"
          ]
        }
      ]
    },
    {
      "cell_type": "code",
      "source": [
        "rating=soup.find('div', class_='_3LWZlK')\n",
        "print(rating.text)"
      ],
      "metadata": {
        "colab": {
          "base_uri": "https://localhost:8080/"
        },
        "id": "nXXLoqDirF8q",
        "outputId": "a1b8285a-5b60-4c49-d4c5-d43783833a1c"
      },
      "execution_count": 48,
      "outputs": [
        {
          "output_type": "stream",
          "name": "stdout",
          "text": [
            "4.7\n"
          ]
        }
      ]
    },
    {
      "cell_type": "code",
      "source": [
        "Products=[]\n",
        "Withoutdiscount=[]\n",
        "discount=[]\n",
        "afterdiscount=[]\n",
        "rating=[]\n",
        "specification=[]\n",
        "\n",
        "\n",
        "for each in soup.findAll('div', class_='_3pLy-c row'):\n",
        "  name= each.find('div', attrs={'class':'_4rR01T'})\n",
        "  wd = each.find('div', attrs={'class':'_3I9_wc _27UcVY'})\n",
        "  ds = each.find('div', attrs={'class':'_3Ay6Sb'})\n",
        "  ad = each.find('div', attrs={'class':'_30jeq3 _1_WHN1'})\n",
        "  rt = each.find('div', attrs={'class':'_3LWZlK'})\n",
        "  spec = each.find('div', attrs={'class':'fMghEO'})\n",
        "\n",
        "\n",
        "  Products.append(name.text)\n",
        "  Withoutdiscount.append(wd.text)\n",
        "  discount.append(ds.text)\n",
        "  afterdiscount.append(ad.text)\n",
        "  rating.append(rt.text)\n",
        "  specification.append(spec.text)\n",
        "\n",
        "  print(Products, Withoutdiscount, discount, afterdiscount, rating)\n"
      ],
      "metadata": {
        "id": "ELkoix6tp98h"
      },
      "execution_count": 59,
      "outputs": []
    },
    {
      "cell_type": "code",
      "source": [
        "df=pd.DataFrame({\"Product Name\": Products, \"Original Price\":Withoutdiscount, \"Discount of\":discount, \"Payable Amount\":afterdiscount, \"Ratings\":rating, \"Specification\": specification})\n",
        "df\n",
        "df.to_csv('Apple Product.csv')"
      ],
      "metadata": {
        "id": "ka4jXeqtti-x"
      },
      "execution_count": null,
      "outputs": []
    }
  ]
}